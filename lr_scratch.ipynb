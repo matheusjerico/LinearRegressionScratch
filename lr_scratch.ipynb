{
 "cells": [
  {
   "cell_type": "markdown",
   "metadata": {
    "colab_type": "text",
    "id": "sZe1NjCrKqGh"
   },
   "source": [
    "# Tarefa 1: Aprendizado Supervisionado"
   ]
  },
  {
   "cell_type": "markdown",
   "metadata": {
    "colab_type": "text",
    "id": "GOE3VAVlKqGi"
   },
   "source": [
    "**Autor**: Matheus Jericó Palhares <br>\n",
    "**LinkedIn**: https://linkedin.com/in/matheusjerico <br>\n",
    "**Github**: https://github.com/matheusjerico"
   ]
  },
  {
   "cell_type": "markdown",
   "metadata": {
    "colab_type": "text",
    "id": "JPMP7kU5KqGi"
   },
   "source": [
    "### 1) Tarefa: implementar a função “fit_linear_regression(pontos)”. Retorne os valores de m e de a.\n",
    "\n",
    "**Variáveis**:\n",
    "- pontos: conjunto de pontos 2D (casos x mortes) que serão clusterizados\n",
    "- Desafio: pesquise sobre como realizar regressão linear para casos com 3 dimensões (2 features e 1 target) e implemente a função fit_linear_regression_3D(pontos).\n"
   ]
  },
  {
   "cell_type": "markdown",
   "metadata": {
    "colab_type": "text",
    "id": "kOOo-EqIKqGj"
   },
   "source": [
    "O seu relatório será o notebook exportado para um arquivo HTML e deve conter:\n",
    "- Um scatter plot mostrando os pontos e a linha estimada na regressão.\n",
    "- Calcule o R2 e discorra sobre o quão boa foi a sua aproximação, sugerindo possíveis formas de melhorar o seu modelo.\n",
    "- Compare os seus resultados com os obtidos através do sklearn.linear_model.LinearRegression. Eles deveriam ser iguais."
   ]
  },
  {
   "cell_type": "markdown",
   "metadata": {
    "colab_type": "text",
    "id": "jNdeyvaiKqGj"
   },
   "source": [
    "### 1. Bibliotecas"
   ]
  },
  {
   "cell_type": "code",
   "execution_count": 1,
   "metadata": {
    "colab": {},
    "colab_type": "code",
    "id": "0l-JdNhwKqGk"
   },
   "outputs": [],
   "source": [
    "import numpy as np\n",
    "import matplotlib.pyplot as plt\n",
    "import pandas as pd\n",
    "import random as rd\n",
    "from sklearn.linear_model import LinearRegression\n",
    "from sklearn.metrics import mean_squared_error"
   ]
  },
  {
   "cell_type": "markdown",
   "metadata": {
    "colab_type": "text",
    "id": "exdZ9qPdKqGm"
   },
   "source": [
    "### 2. Carregando dados"
   ]
  },
  {
   "cell_type": "code",
   "execution_count": 2,
   "metadata": {
    "colab": {
     "base_uri": "https://localhost:8080/",
     "height": 204
    },
    "colab_type": "code",
    "id": "2fivjTmOKqGm",
    "outputId": "c33bb216-8265-45b3-ad2b-27887fba5d1c"
   },
   "outputs": [
    {
     "data": {
      "text/html": [
       "<div>\n",
       "<style scoped>\n",
       "    .dataframe tbody tr th:only-of-type {\n",
       "        vertical-align: middle;\n",
       "    }\n",
       "\n",
       "    .dataframe tbody tr th {\n",
       "        vertical-align: top;\n",
       "    }\n",
       "\n",
       "    .dataframe thead th {\n",
       "        text-align: right;\n",
       "    }\n",
       "</style>\n",
       "<table border=\"1\" class=\"dataframe\">\n",
       "  <thead>\n",
       "    <tr style=\"text-align: right;\">\n",
       "      <th></th>\n",
       "      <th>county</th>\n",
       "      <th>cases</th>\n",
       "      <th>deaths</th>\n",
       "    </tr>\n",
       "  </thead>\n",
       "  <tbody>\n",
       "    <tr>\n",
       "      <th>0</th>\n",
       "      <td>Abbeville</td>\n",
       "      <td>84</td>\n",
       "      <td>0</td>\n",
       "    </tr>\n",
       "    <tr>\n",
       "      <th>1</th>\n",
       "      <td>Acadia</td>\n",
       "      <td>741</td>\n",
       "      <td>21</td>\n",
       "    </tr>\n",
       "    <tr>\n",
       "      <th>2</th>\n",
       "      <td>Accomack</td>\n",
       "      <td>116</td>\n",
       "      <td>0</td>\n",
       "    </tr>\n",
       "    <tr>\n",
       "      <th>3</th>\n",
       "      <td>Ada</td>\n",
       "      <td>4264</td>\n",
       "      <td>41</td>\n",
       "    </tr>\n",
       "    <tr>\n",
       "      <th>4</th>\n",
       "      <td>Adair</td>\n",
       "      <td>325</td>\n",
       "      <td>8</td>\n",
       "    </tr>\n",
       "  </tbody>\n",
       "</table>\n",
       "</div>"
      ],
      "text/plain": [
       "      county  cases  deaths\n",
       "0  Abbeville     84       0\n",
       "1     Acadia    741      21\n",
       "2   Accomack    116       0\n",
       "3        Ada   4264      41\n",
       "4      Adair    325       8"
      ]
     },
     "execution_count": 2,
     "metadata": {},
     "output_type": "execute_result"
    }
   ],
   "source": [
    "dataset = pd.read_csv(\"./Dataset/base-covid-19-us.csv\")\n",
    "dataset.head()"
   ]
  },
  {
   "cell_type": "code",
   "execution_count": 3,
   "metadata": {
    "colab": {
     "base_uri": "https://localhost:8080/",
     "height": 36
    },
    "colab_type": "code",
    "id": "rJTipPtuKqGp",
    "outputId": "4962748b-2a34-4c9c-cec4-ea26b3ec5d08"
   },
   "outputs": [
    {
     "data": {
      "text/plain": [
       "(1570, 3)"
      ]
     },
     "execution_count": 3,
     "metadata": {},
     "output_type": "execute_result"
    }
   ],
   "source": [
    "dataset.shape"
   ]
  },
  {
   "cell_type": "code",
   "execution_count": 4,
   "metadata": {
    "colab": {},
    "colab_type": "code",
    "id": "SWsCdz0SKqGr"
   },
   "outputs": [],
   "source": [
    "dataset.sort_values(by=['deaths'], inplace=True)"
   ]
  },
  {
   "cell_type": "code",
   "execution_count": 5,
   "metadata": {
    "colab": {
     "base_uri": "https://localhost:8080/",
     "height": 284
    },
    "colab_type": "code",
    "id": "RqmLHZAtKqGt",
    "outputId": "ffd48798-a71a-4532-9f1f-928f94f4a434"
   },
   "outputs": [
    {
     "data": {
      "text/plain": [
       "<matplotlib.collections.PathCollection at 0x7fd436a55470>"
      ]
     },
     "execution_count": 5,
     "metadata": {},
     "output_type": "execute_result"
    },
    {
     "data": {
      "image/png": "[encoded data removed]",
      "text/plain": [
       "<Figure size 432x288 with 1 Axes>"
      ]
     },
     "metadata": {
      "needs_background": "light"
     },
     "output_type": "display_data"
    }
   ],
   "source": [
    "cases = dataset['cases'].values\n",
    "deaths = dataset['deaths'].values\n",
    "plt.scatter(cases, deaths, c='black', s=10)"
   ]
  },
  {
   "cell_type": "markdown",
   "metadata": {
    "colab_type": "text",
    "id": "6vV5GQrXKqGv"
   },
   "source": [
    "### 3. Criando classe da Regressão Linear"
   ]
  },
  {
   "cell_type": "code",
   "execution_count": 6,
   "metadata": {
    "colab": {},
    "colab_type": "code",
    "id": "m2UKis2QKqGw"
   },
   "outputs": [],
   "source": [
    "class linearRegression:\n",
    "    def __init__(self, pontos):\n",
    "        self.pontos = pontos\n",
    "        self.X = self.pontos['cases'].values\n",
    "        self.Y = self.pontos['deaths'].values\n",
    "        self.n = len(self.X)\n",
    "        self.x_media = 0\n",
    "        self.y_media = 0\n",
    "        \n",
    "    def fit(self):\n",
    "        self.x_media = np.mean(self.X)\n",
    "        self.y_media = np.mean(self.Y)\n",
    "\n",
    "        numerador = 0\n",
    "        denominador = 0\n",
    "        for i in range(self.n):\n",
    "            numerador += (self.X[i] - self.x_media) * (self.Y[i] - self.y_media)\n",
    "            denominador += (self.X[i] - self.x_media) ** 2\n",
    "\n",
    "        self.m = numerador / denominador\n",
    "        self.a = self.y_media - (self.m * self.x_media)\n",
    "\n",
    "        return (self.m, self.a)\n",
    "    \n",
    "    def plot(self):\n",
    "        x_max = np.max(self.X) + 100\n",
    "        x_min = np.min(self.X) - 100\n",
    "\n",
    "        x = np.linspace(x_min, x_max, 1000)\n",
    "        y = self.a + self.m * x\n",
    "        \n",
    "        plt.plot(x, y, color='#00ff00', label='Regressão Linear')\n",
    "        plt.scatter(self.X, self.Y, color='#ff0000', label='Dados')\n",
    "        plt.xlabel('Cases')\n",
    "        plt.ylabel('Deaths')\n",
    "        plt.legend()\n",
    "        plt.show()\n",
    "        \n",
    "    def rmse(self):\n",
    "        self.rmse = 0\n",
    "        for i in range(self.n):\n",
    "            y_pred =  self.a + (self.m * self.X[i])\n",
    "            self.rmse += (self.Y[i] - y_pred) ** 2\n",
    "\n",
    "        self.rmse = np.sqrt(self.rmse/self.n)\n",
    "        return self.rmse\n",
    "    \n",
    "    def r2(self):\n",
    "        self.sumofsquares = 0\n",
    "        self.sumofresiduals = 0\n",
    "        self.score = 0 \n",
    "        \n",
    "        for i in range(self.n) :\n",
    "            y_pred = self.a + (self.m * self.X[i])\n",
    "            self.sumofsquares += (self.Y[i] - self.y_media) ** 2\n",
    "            self.sumofresiduals += (self.Y[i] - y_pred) **2\n",
    "\n",
    "        self.score  = 1 - (self.sumofresiduals/self.sumofsquares)\n",
    "        return self.score"
   ]
  },
  {
   "cell_type": "markdown",
   "metadata": {
    "colab_type": "text",
    "id": "IuD8Geo6KqGz"
   },
   "source": [
    "### 4. Regressão Linear"
   ]
  },
  {
   "cell_type": "code",
   "execution_count": 7,
   "metadata": {},
   "outputs": [],
   "source": [
    "lRegression = linearRegression(dataset)\n",
    "m, a = lRegression.fit()"
   ]
  },
  {
   "cell_type": "markdown",
   "metadata": {},
   "source": [
    "#### 4.1. Coeficientes"
   ]
  },
  {
   "cell_type": "code",
   "execution_count": 8,
   "metadata": {
    "colab": {},
    "colab_type": "code",
    "id": "N7I50joxKqGz"
   },
   "outputs": [
    {
     "name": "stdout",
     "output_type": "stream",
     "text": [
      "Coeficiente \"m\": 0.033631581834363655\n",
      "Coeficiente \"a\": -18.63012262250561\n"
     ]
    }
   ],
   "source": [
    "print(f'Coeficiente \"m\": {m}\\nCoeficiente \"a\": {a}')"
   ]
  },
  {
   "cell_type": "markdown",
   "metadata": {},
   "source": [
    "#### 4.2. Gráfico"
   ]
  },
  {
   "cell_type": "code",
   "execution_count": 9,
   "metadata": {},
   "outputs": [
    {
     "data": {
      "image/png": "[encoded data removed]",
      "text/plain": [
       "<Figure size 432x288 with 1 Axes>"
      ]
     },
     "metadata": {
      "needs_background": "light"
     },
     "output_type": "display_data"
    }
   ],
   "source": [
    "lRegression.plot()"
   ]
  },
  {
   "cell_type": "markdown",
   "metadata": {},
   "source": [
    "#### 4.3. RMSE"
   ]
  },
  {
   "cell_type": "code",
   "execution_count": 10,
   "metadata": {
    "colab": {
     "base_uri": "https://localhost:8080/",
     "height": 74
    },
    "colab_type": "code",
    "id": "dEQag21zKqG1",
    "outputId": "d694f4c7-a814-439a-96ea-34931a92f51c"
   },
   "outputs": [
    {
     "data": {
      "text/plain": [
       "198.486116140131"
      ]
     },
     "execution_count": 10,
     "metadata": {},
     "output_type": "execute_result"
    }
   ],
   "source": [
    "lRegression.rmse()"
   ]
  },
  {
   "cell_type": "markdown",
   "metadata": {},
   "source": [
    "#### 4.4. R2"
   ]
  },
  {
   "cell_type": "code",
   "execution_count": 11,
   "metadata": {},
   "outputs": [
    {
     "data": {
      "text/plain": [
       "0.9444904768158006"
      ]
     },
     "execution_count": 11,
     "metadata": {},
     "output_type": "execute_result"
    }
   ],
   "source": [
    "lRegression.r2()"
   ]
  },
  {
   "cell_type": "markdown",
   "metadata": {},
   "source": [
    "**Análise:** \n",
    "- O modelo obteve um bom valor de R². \n",
    "- R² = 0.94 significa que o modelo linear explica 94% da variância da variável dependente a partir do regressores (variáveis independentes) incluídas naquele no modelo apresentado linear. \n",
    "\n",
    "**Possíveis melhoras:**\n",
    "- Aumentar o volume de dados.\n",
    "- Aumentar a quantidade de variáveis independentes."
   ]
  },
  {
   "cell_type": "markdown",
   "metadata": {},
   "source": [
    "### 5. Comparando com o modelo do Sklearn"
   ]
  },
  {
   "cell_type": "code",
   "execution_count": 12,
   "metadata": {},
   "outputs": [
    {
     "name": "stdout",
     "output_type": "stream",
     "text": [
      "Coeficiente \"m\": 0.03363158183436364\n",
      "Coeficiente \"a\": -18.630122622505567\n"
     ]
    }
   ],
   "source": [
    "X = dataset['cases'].values.reshape(-1,1)\n",
    "y = dataset['deaths'].values.reshape(-1,1)\n",
    "\n",
    "\n",
    "reg = LinearRegression().fit(X, y)\n",
    "reg.score(X, y)\n",
    "\n",
    "print(f'Coeficiente \"m\": {reg.coef_[0][0]}\\nCoeficiente \"a\": {reg.intercept_[0]}')"
   ]
  },
  {
   "cell_type": "code",
   "execution_count": 13,
   "metadata": {},
   "outputs": [
    {
     "name": "stdout",
     "output_type": "stream",
     "text": [
      "RMSE: 198.48611614013106\n"
     ]
    }
   ],
   "source": [
    "rmse = mean_squared_error(y, reg.intercept_[0]+(reg.coef_[0][0]*X), squared = False)\n",
    "print(f'RMSE: {rmse}')"
   ]
  },
  {
   "cell_type": "code",
   "execution_count": 14,
   "metadata": {},
   "outputs": [
    {
     "data": {
      "image/png": "[encoded data removed]",
      "text/plain": [
       "<Figure size 432x288 with 1 Axes>"
      ]
     },
     "metadata": {
      "needs_background": "light"
     },
     "output_type": "display_data"
    }
   ],
   "source": [
    "plt.scatter(X, y,  color='gray')\n",
    "plt.plot(X,(reg.intercept_[0]+(reg.coef_[0][0]*X)), color='red', linewidth=2)\n",
    "plt.show()"
   ]
  },
  {
   "cell_type": "markdown",
   "metadata": {},
   "source": [
    "**Análise:**\n",
    "- O resultado obtido através da nossa classe de regressão linear é igual ao resultado da classe de regressão linear do scikit-learn. "
   ]
  }
 ],
 "metadata": {
  "colab": {
   "name": "kmeans_scratch.ipynb",
   "provenance": []
  },
  "kernelspec": {
   "display_name": "Python 3",
   "language": "python",
   "name": "python3"
  },
  "language_info": {
   "codemirror_mode": {
    "name": "ipython",
    "version": 3
   },
   "file_extension": ".py",
   "mimetype": "text/x-python",
   "name": "python",
   "nbconvert_exporter": "python",
   "pygments_lexer": "ipython3",
   "version": "3.6.10"
  }
 },
 "nbformat": 4,
 "nbformat_minor": 1
}
